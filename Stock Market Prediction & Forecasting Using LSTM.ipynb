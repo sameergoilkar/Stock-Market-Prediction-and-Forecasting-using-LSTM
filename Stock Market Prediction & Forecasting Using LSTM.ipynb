{
 "cells": [
  {
   "cell_type": "code",
   "execution_count": 2,
   "id": "fafb8dfe",
   "metadata": {},
   "outputs": [],
   "source": [
    "import pandas as pd\n",
    "import numpy as np\n",
    "import seaborn as sns\n",
    "from sklearn.model_selection import train_test_split\n",
    "import matplotlib.pyplot as plt"
   ]
  },
  {
   "cell_type": "code",
   "execution_count": 47,
   "id": "8de605b3",
   "metadata": {},
   "outputs": [],
   "source": [
    "df = pd.read_csv ('AAPL.csv')"
   ]
  },
  {
   "cell_type": "code",
   "execution_count": 48,
   "id": "4d942831",
   "metadata": {},
   "outputs": [
    {
     "data": {
      "text/html": [
       "<div>\n",
       "<style scoped>\n",
       "    .dataframe tbody tr th:only-of-type {\n",
       "        vertical-align: middle;\n",
       "    }\n",
       "\n",
       "    .dataframe tbody tr th {\n",
       "        vertical-align: top;\n",
       "    }\n",
       "\n",
       "    .dataframe thead th {\n",
       "        text-align: right;\n",
       "    }\n",
       "</style>\n",
       "<table border=\"1\" class=\"dataframe\">\n",
       "  <thead>\n",
       "    <tr style=\"text-align: right;\">\n",
       "      <th></th>\n",
       "      <th>Unnamed: 0</th>\n",
       "      <th>symbol</th>\n",
       "      <th>date</th>\n",
       "      <th>close</th>\n",
       "      <th>high</th>\n",
       "      <th>low</th>\n",
       "      <th>open</th>\n",
       "      <th>volume</th>\n",
       "      <th>adjClose</th>\n",
       "      <th>adjHigh</th>\n",
       "      <th>adjLow</th>\n",
       "      <th>adjOpen</th>\n",
       "      <th>adjVolume</th>\n",
       "      <th>divCash</th>\n",
       "      <th>splitFactor</th>\n",
       "    </tr>\n",
       "  </thead>\n",
       "  <tbody>\n",
       "    <tr>\n",
       "      <th>0</th>\n",
       "      <td>0</td>\n",
       "      <td>AAPL</td>\n",
       "      <td>2015-05-27 00:00:00+00:00</td>\n",
       "      <td>132.045</td>\n",
       "      <td>132.260</td>\n",
       "      <td>130.0500</td>\n",
       "      <td>130.34</td>\n",
       "      <td>45833246</td>\n",
       "      <td>121.682558</td>\n",
       "      <td>121.880685</td>\n",
       "      <td>119.844118</td>\n",
       "      <td>120.111360</td>\n",
       "      <td>45833246</td>\n",
       "      <td>0.0</td>\n",
       "      <td>1.0</td>\n",
       "    </tr>\n",
       "    <tr>\n",
       "      <th>1</th>\n",
       "      <td>1</td>\n",
       "      <td>AAPL</td>\n",
       "      <td>2015-05-28 00:00:00+00:00</td>\n",
       "      <td>131.780</td>\n",
       "      <td>131.950</td>\n",
       "      <td>131.1000</td>\n",
       "      <td>131.86</td>\n",
       "      <td>30733309</td>\n",
       "      <td>121.438354</td>\n",
       "      <td>121.595013</td>\n",
       "      <td>120.811718</td>\n",
       "      <td>121.512076</td>\n",
       "      <td>30733309</td>\n",
       "      <td>0.0</td>\n",
       "      <td>1.0</td>\n",
       "    </tr>\n",
       "    <tr>\n",
       "      <th>2</th>\n",
       "      <td>2</td>\n",
       "      <td>AAPL</td>\n",
       "      <td>2015-05-29 00:00:00+00:00</td>\n",
       "      <td>130.280</td>\n",
       "      <td>131.450</td>\n",
       "      <td>129.9000</td>\n",
       "      <td>131.23</td>\n",
       "      <td>50884452</td>\n",
       "      <td>120.056069</td>\n",
       "      <td>121.134251</td>\n",
       "      <td>119.705890</td>\n",
       "      <td>120.931516</td>\n",
       "      <td>50884452</td>\n",
       "      <td>0.0</td>\n",
       "      <td>1.0</td>\n",
       "    </tr>\n",
       "    <tr>\n",
       "      <th>3</th>\n",
       "      <td>3</td>\n",
       "      <td>AAPL</td>\n",
       "      <td>2015-06-01 00:00:00+00:00</td>\n",
       "      <td>130.535</td>\n",
       "      <td>131.390</td>\n",
       "      <td>130.0500</td>\n",
       "      <td>131.20</td>\n",
       "      <td>32112797</td>\n",
       "      <td>120.291057</td>\n",
       "      <td>121.078960</td>\n",
       "      <td>119.844118</td>\n",
       "      <td>120.903870</td>\n",
       "      <td>32112797</td>\n",
       "      <td>0.0</td>\n",
       "      <td>1.0</td>\n",
       "    </tr>\n",
       "    <tr>\n",
       "      <th>4</th>\n",
       "      <td>4</td>\n",
       "      <td>AAPL</td>\n",
       "      <td>2015-06-02 00:00:00+00:00</td>\n",
       "      <td>129.960</td>\n",
       "      <td>130.655</td>\n",
       "      <td>129.3200</td>\n",
       "      <td>129.86</td>\n",
       "      <td>33667627</td>\n",
       "      <td>119.761181</td>\n",
       "      <td>120.401640</td>\n",
       "      <td>119.171406</td>\n",
       "      <td>119.669029</td>\n",
       "      <td>33667627</td>\n",
       "      <td>0.0</td>\n",
       "      <td>1.0</td>\n",
       "    </tr>\n",
       "    <tr>\n",
       "      <th>...</th>\n",
       "      <td>...</td>\n",
       "      <td>...</td>\n",
       "      <td>...</td>\n",
       "      <td>...</td>\n",
       "      <td>...</td>\n",
       "      <td>...</td>\n",
       "      <td>...</td>\n",
       "      <td>...</td>\n",
       "      <td>...</td>\n",
       "      <td>...</td>\n",
       "      <td>...</td>\n",
       "      <td>...</td>\n",
       "      <td>...</td>\n",
       "      <td>...</td>\n",
       "      <td>...</td>\n",
       "    </tr>\n",
       "    <tr>\n",
       "      <th>1253</th>\n",
       "      <td>1253</td>\n",
       "      <td>AAPL</td>\n",
       "      <td>2020-05-18 00:00:00+00:00</td>\n",
       "      <td>314.960</td>\n",
       "      <td>316.500</td>\n",
       "      <td>310.3241</td>\n",
       "      <td>313.17</td>\n",
       "      <td>33843125</td>\n",
       "      <td>314.960000</td>\n",
       "      <td>316.500000</td>\n",
       "      <td>310.324100</td>\n",
       "      <td>313.170000</td>\n",
       "      <td>33843125</td>\n",
       "      <td>0.0</td>\n",
       "      <td>1.0</td>\n",
       "    </tr>\n",
       "    <tr>\n",
       "      <th>1254</th>\n",
       "      <td>1254</td>\n",
       "      <td>AAPL</td>\n",
       "      <td>2020-05-19 00:00:00+00:00</td>\n",
       "      <td>313.140</td>\n",
       "      <td>318.520</td>\n",
       "      <td>313.0100</td>\n",
       "      <td>315.03</td>\n",
       "      <td>25432385</td>\n",
       "      <td>313.140000</td>\n",
       "      <td>318.520000</td>\n",
       "      <td>313.010000</td>\n",
       "      <td>315.030000</td>\n",
       "      <td>25432385</td>\n",
       "      <td>0.0</td>\n",
       "      <td>1.0</td>\n",
       "    </tr>\n",
       "    <tr>\n",
       "      <th>1255</th>\n",
       "      <td>1255</td>\n",
       "      <td>AAPL</td>\n",
       "      <td>2020-05-20 00:00:00+00:00</td>\n",
       "      <td>319.230</td>\n",
       "      <td>319.520</td>\n",
       "      <td>316.2000</td>\n",
       "      <td>316.68</td>\n",
       "      <td>27876215</td>\n",
       "      <td>319.230000</td>\n",
       "      <td>319.520000</td>\n",
       "      <td>316.200000</td>\n",
       "      <td>316.680000</td>\n",
       "      <td>27876215</td>\n",
       "      <td>0.0</td>\n",
       "      <td>1.0</td>\n",
       "    </tr>\n",
       "    <tr>\n",
       "      <th>1256</th>\n",
       "      <td>1256</td>\n",
       "      <td>AAPL</td>\n",
       "      <td>2020-05-21 00:00:00+00:00</td>\n",
       "      <td>316.850</td>\n",
       "      <td>320.890</td>\n",
       "      <td>315.8700</td>\n",
       "      <td>318.66</td>\n",
       "      <td>25672211</td>\n",
       "      <td>316.850000</td>\n",
       "      <td>320.890000</td>\n",
       "      <td>315.870000</td>\n",
       "      <td>318.660000</td>\n",
       "      <td>25672211</td>\n",
       "      <td>0.0</td>\n",
       "      <td>1.0</td>\n",
       "    </tr>\n",
       "    <tr>\n",
       "      <th>1257</th>\n",
       "      <td>1257</td>\n",
       "      <td>AAPL</td>\n",
       "      <td>2020-05-22 00:00:00+00:00</td>\n",
       "      <td>318.890</td>\n",
       "      <td>319.230</td>\n",
       "      <td>315.3500</td>\n",
       "      <td>315.77</td>\n",
       "      <td>20450754</td>\n",
       "      <td>318.890000</td>\n",
       "      <td>319.230000</td>\n",
       "      <td>315.350000</td>\n",
       "      <td>315.770000</td>\n",
       "      <td>20450754</td>\n",
       "      <td>0.0</td>\n",
       "      <td>1.0</td>\n",
       "    </tr>\n",
       "  </tbody>\n",
       "</table>\n",
       "<p>1258 rows × 15 columns</p>\n",
       "</div>"
      ],
      "text/plain": [
       "      Unnamed: 0 symbol                       date    close     high  \\\n",
       "0              0   AAPL  2015-05-27 00:00:00+00:00  132.045  132.260   \n",
       "1              1   AAPL  2015-05-28 00:00:00+00:00  131.780  131.950   \n",
       "2              2   AAPL  2015-05-29 00:00:00+00:00  130.280  131.450   \n",
       "3              3   AAPL  2015-06-01 00:00:00+00:00  130.535  131.390   \n",
       "4              4   AAPL  2015-06-02 00:00:00+00:00  129.960  130.655   \n",
       "...          ...    ...                        ...      ...      ...   \n",
       "1253        1253   AAPL  2020-05-18 00:00:00+00:00  314.960  316.500   \n",
       "1254        1254   AAPL  2020-05-19 00:00:00+00:00  313.140  318.520   \n",
       "1255        1255   AAPL  2020-05-20 00:00:00+00:00  319.230  319.520   \n",
       "1256        1256   AAPL  2020-05-21 00:00:00+00:00  316.850  320.890   \n",
       "1257        1257   AAPL  2020-05-22 00:00:00+00:00  318.890  319.230   \n",
       "\n",
       "           low    open    volume    adjClose     adjHigh      adjLow  \\\n",
       "0     130.0500  130.34  45833246  121.682558  121.880685  119.844118   \n",
       "1     131.1000  131.86  30733309  121.438354  121.595013  120.811718   \n",
       "2     129.9000  131.23  50884452  120.056069  121.134251  119.705890   \n",
       "3     130.0500  131.20  32112797  120.291057  121.078960  119.844118   \n",
       "4     129.3200  129.86  33667627  119.761181  120.401640  119.171406   \n",
       "...        ...     ...       ...         ...         ...         ...   \n",
       "1253  310.3241  313.17  33843125  314.960000  316.500000  310.324100   \n",
       "1254  313.0100  315.03  25432385  313.140000  318.520000  313.010000   \n",
       "1255  316.2000  316.68  27876215  319.230000  319.520000  316.200000   \n",
       "1256  315.8700  318.66  25672211  316.850000  320.890000  315.870000   \n",
       "1257  315.3500  315.77  20450754  318.890000  319.230000  315.350000   \n",
       "\n",
       "         adjOpen  adjVolume  divCash  splitFactor  \n",
       "0     120.111360   45833246      0.0          1.0  \n",
       "1     121.512076   30733309      0.0          1.0  \n",
       "2     120.931516   50884452      0.0          1.0  \n",
       "3     120.903870   32112797      0.0          1.0  \n",
       "4     119.669029   33667627      0.0          1.0  \n",
       "...          ...        ...      ...          ...  \n",
       "1253  313.170000   33843125      0.0          1.0  \n",
       "1254  315.030000   25432385      0.0          1.0  \n",
       "1255  316.680000   27876215      0.0          1.0  \n",
       "1256  318.660000   25672211      0.0          1.0  \n",
       "1257  315.770000   20450754      0.0          1.0  \n",
       "\n",
       "[1258 rows x 15 columns]"
      ]
     },
     "execution_count": 48,
     "metadata": {},
     "output_type": "execute_result"
    }
   ],
   "source": [
    "df"
   ]
  },
  {
   "cell_type": "code",
   "execution_count": 49,
   "id": "23c813f1",
   "metadata": {},
   "outputs": [],
   "source": [
    "df1 = df.reset_index()['close']"
   ]
  },
  {
   "cell_type": "code",
   "execution_count": 50,
   "id": "fc38adb8",
   "metadata": {},
   "outputs": [
    {
     "data": {
      "text/plain": [
       "[<matplotlib.lines.Line2D at 0x269cf004f40>]"
      ]
     },
     "execution_count": 50,
     "metadata": {},
     "output_type": "execute_result"
    },
    {
     "data": {
      "image/png": "[encoded data removed]",
      "text/plain": [
       "<Figure size 640x480 with 1 Axes>"
      ]
     },
     "metadata": {},
     "output_type": "display_data"
    }
   ],
   "source": [
    "plt.plot(df1)"
   ]
  },
  {
   "cell_type": "code",
   "execution_count": 51,
   "id": "afcd7abf",
   "metadata": {},
   "outputs": [],
   "source": [
    "from sklearn.preprocessing import MinMaxScaler\n",
    "scaler = MinMaxScaler(feature_range=(0,1))"
   ]
  },
  {
   "cell_type": "code",
   "execution_count": 52,
   "id": "098effdb",
   "metadata": {},
   "outputs": [],
   "source": [
    "df1= scaler.fit_transform(np.array(df1).reshape(-1,1))"
   ]
  },
  {
   "cell_type": "markdown",
   "id": "19708799",
   "metadata": {},
   "source": [
    "# Splitting Data"
   ]
  },
  {
   "cell_type": "code",
   "execution_count": 53,
   "id": "1bd59a5e",
   "metadata": {},
   "outputs": [],
   "source": [
    "training_size = int(len(df1)*0.65)\n",
    "test_size = len(df1)-training_size"
   ]
  },
  {
   "cell_type": "code",
   "execution_count": 54,
   "id": "a985f7bc",
   "metadata": {},
   "outputs": [
    {
     "data": {
      "text/plain": [
       "817"
      ]
     },
     "execution_count": 54,
     "metadata": {},
     "output_type": "execute_result"
    }
   ],
   "source": [
    "training_size"
   ]
  },
  {
   "cell_type": "code",
   "execution_count": 55,
   "id": "5c95e8ca",
   "metadata": {},
   "outputs": [
    {
     "name": "stdout",
     "output_type": "stream",
     "text": [
      "441\n"
     ]
    }
   ],
   "source": [
    "print(test_size)"
   ]
  },
  {
   "cell_type": "code",
   "execution_count": 56,
   "id": "6e90f94c",
   "metadata": {},
   "outputs": [],
   "source": [
    "train_data, test_data = df1[0:training_size, :], df1[training_size:len(df1), :1]"
   ]
  },
  {
   "cell_type": "markdown",
   "id": "70444c8f",
   "metadata": {},
   "source": [
    "# Dataset Matrix"
   ]
  },
  {
   "cell_type": "code",
   "execution_count": 57,
   "id": "8982d6ca",
   "metadata": {},
   "outputs": [],
   "source": [
    "import numpy\n",
    "# convert an array of values into a dataset matrix\n",
    "def create_dataset(dataset, time_step=1):\n",
    "    dataX, dataY = [], []\n",
    "    for i in range(len(dataset)-time_step-1):\n",
    "        a = dataset[i:(i+time_step), 0]\n",
    "        dataX.append(a)\n",
    "        dataY.append(dataset[i + time_step, 0])\n",
    "    return numpy.array(dataX), numpy.array(dataY)"
   ]
  },
  {
   "cell_type": "code",
   "execution_count": 58,
   "id": "5c13f8a8",
   "metadata": {},
   "outputs": [],
   "source": [
    "time_step = 100\n",
    "X_train, y_train = create_dataset(train_data, time_step)\n",
    "X_test, ytest = create_dataset(test_data, time_step)"
   ]
  },
  {
   "cell_type": "code",
   "execution_count": 59,
   "id": "013055cd",
   "metadata": {},
   "outputs": [
    {
     "name": "stdout",
     "output_type": "stream",
     "text": [
      "(716, 100)\n",
      "(716,)\n"
     ]
    },
    {
     "data": {
      "text/plain": [
       "(None, None)"
      ]
     },
     "execution_count": 59,
     "metadata": {},
     "output_type": "execute_result"
    }
   ],
   "source": [
    "print(X_train.shape), print(y_train.shape)"
   ]
  },
  {
   "cell_type": "code",
   "execution_count": 60,
   "id": "caa0aa28",
   "metadata": {},
   "outputs": [
    {
     "name": "stdout",
     "output_type": "stream",
     "text": [
      "(340, 100)\n",
      "(340,)\n"
     ]
    },
    {
     "data": {
      "text/plain": [
       "(None, None)"
      ]
     },
     "execution_count": 60,
     "metadata": {},
     "output_type": "execute_result"
    }
   ],
   "source": [
    "print(X_test.shape), print(ytest.shape)"
   ]
  },
  {
   "cell_type": "code",
   "execution_count": 61,
   "id": "f99f0f01",
   "metadata": {},
   "outputs": [],
   "source": [
    "X_train =X_train.reshape(X_train.shape[0],X_train.shape[1] , 1)\n",
    "X_test = X_test.reshape(X_test.shape[0],X_test.shape[1] , 1)"
   ]
  },
  {
   "cell_type": "markdown",
   "id": "43138428",
   "metadata": {},
   "source": [
    "# Create LSTM Model"
   ]
  },
  {
   "cell_type": "code",
   "execution_count": 62,
   "id": "1b8394d6",
   "metadata": {},
   "outputs": [],
   "source": [
    "from tensorflow.keras.models import Sequential\n",
    "from tensorflow.keras.layers import Dense\n",
    "from tensorflow.keras.layers import LSTM"
   ]
  },
  {
   "cell_type": "code",
   "execution_count": 63,
   "id": "f6c923b6",
   "metadata": {},
   "outputs": [],
   "source": [
    "model=Sequential()\n",
    "model.add(LSTM(50,return_sequences=True,input_shape=(100,1)))\n",
    "model.add(LSTM(50,return_sequences=True))\n",
    "model.add(LSTM(50))\n",
    "model.add(Dense(1))\n",
    "model.compile(loss='mean_squared_error',optimizer='adam')"
   ]
  },
  {
   "cell_type": "code",
   "execution_count": 64,
   "id": "b34fbd2f",
   "metadata": {},
   "outputs": [
    {
     "name": "stdout",
     "output_type": "stream",
     "text": [
      "Model: \"sequential_1\"\n",
      "_________________________________________________________________\n",
      " Layer (type)                Output Shape              Param #   \n",
      "=================================================================\n",
      " lstm_3 (LSTM)               (None, 100, 50)           10400     \n",
      "                                                                 \n",
      " lstm_4 (LSTM)               (None, 100, 50)           20200     \n",
      "                                                                 \n",
      " lstm_5 (LSTM)               (None, 50)                20200     \n",
      "                                                                 \n",
      " dense_1 (Dense)             (None, 1)                 51        \n",
      "                                                                 \n",
      "=================================================================\n",
      "Total params: 50,851\n",
      "Trainable params: 50,851\n",
      "Non-trainable params: 0\n",
      "_________________________________________________________________\n"
     ]
    }
   ],
   "source": [
    "model.summary()"
   ]
  },
  {
   "cell_type": "code",
   "execution_count": 71,
   "id": "816d4cbc",
   "metadata": {},
   "outputs": [
    {
     "name": "stdout",
     "output_type": "stream",
     "text": [
      "Epoch 1/100\n",
      "12/12 [==============================] - 54s 1s/step - loss: 0.0179 - val_loss: 0.0601\n",
      "Epoch 2/100\n",
      "12/12 [==============================] - 7s 613ms/step - loss: 0.0037 - val_loss: 0.0041\n",
      "Epoch 3/100\n",
      "12/12 [==============================] - 6s 532ms/step - loss: 0.0011 - val_loss: 0.0061\n",
      "Epoch 4/100\n",
      "12/12 [==============================] - 7s 617ms/step - loss: 9.7899e-04 - val_loss: 0.0040\n",
      "Epoch 5/100\n",
      "12/12 [==============================] - 7s 565ms/step - loss: 6.6024e-04 - val_loss: 0.0054\n",
      "Epoch 6/100\n",
      "12/12 [==============================] - 7s 575ms/step - loss: 5.9363e-04 - val_loss: 0.0039\n",
      "Epoch 7/100\n",
      "12/12 [==============================] - 7s 595ms/step - loss: 5.8756e-04 - val_loss: 0.0036\n",
      "Epoch 8/100\n",
      "12/12 [==============================] - 6s 545ms/step - loss: 5.7763e-04 - val_loss: 0.0044\n",
      "Epoch 9/100\n",
      "12/12 [==============================] - 7s 608ms/step - loss: 5.8608e-04 - val_loss: 0.0049\n",
      "Epoch 10/100\n",
      "12/12 [==============================] - 6s 521ms/step - loss: 5.7487e-04 - val_loss: 0.0039\n",
      "Epoch 11/100\n",
      "12/12 [==============================] - 7s 607ms/step - loss: 5.6390e-04 - val_loss: 0.0041\n",
      "Epoch 12/100\n",
      "12/12 [==============================] - 7s 576ms/step - loss: 5.7948e-04 - val_loss: 0.0035\n",
      "Epoch 13/100\n",
      "12/12 [==============================] - 7s 597ms/step - loss: 5.3745e-04 - val_loss: 0.0031\n",
      "Epoch 14/100\n",
      "12/12 [==============================] - 7s 578ms/step - loss: 5.3354e-04 - val_loss: 0.0034\n",
      "Epoch 15/100\n",
      "12/12 [==============================] - 6s 533ms/step - loss: 5.1974e-04 - val_loss: 0.0029\n",
      "Epoch 16/100\n",
      "12/12 [==============================] - 8s 630ms/step - loss: 5.3476e-04 - val_loss: 0.0028\n",
      "Epoch 17/100\n",
      "12/12 [==============================] - 6s 520ms/step - loss: 5.1457e-04 - val_loss: 0.0031\n",
      "Epoch 18/100\n",
      "12/12 [==============================] - 7s 630ms/step - loss: 5.0197e-04 - val_loss: 0.0029\n",
      "Epoch 19/100\n",
      "12/12 [==============================] - 6s 535ms/step - loss: 4.8160e-04 - val_loss: 0.0028\n",
      "Epoch 20/100\n",
      "12/12 [==============================] - 7s 575ms/step - loss: 4.8151e-04 - val_loss: 0.0025\n",
      "Epoch 21/100\n",
      "12/12 [==============================] - 7s 616ms/step - loss: 4.6736e-04 - val_loss: 0.0026\n",
      "Epoch 22/100\n",
      "12/12 [==============================] - 6s 537ms/step - loss: 4.8496e-04 - val_loss: 0.0026\n",
      "Epoch 23/100\n",
      "12/12 [==============================] - 8s 637ms/step - loss: 4.5981e-04 - val_loss: 0.0025\n",
      "Epoch 24/100\n",
      "12/12 [==============================] - 6s 524ms/step - loss: 4.9234e-04 - val_loss: 0.0022\n",
      "Epoch 25/100\n",
      "12/12 [==============================] - 7s 623ms/step - loss: 4.2574e-04 - val_loss: 0.0021\n",
      "Epoch 26/100\n",
      "12/12 [==============================] - 8s 667ms/step - loss: 4.5190e-04 - val_loss: 0.0026\n",
      "Epoch 27/100\n",
      "12/12 [==============================] - 8s 714ms/step - loss: 4.3239e-04 - val_loss: 0.0020\n",
      "Epoch 28/100\n",
      "12/12 [==============================] - 7s 615ms/step - loss: 4.2560e-04 - val_loss: 0.0019\n",
      "Epoch 29/100\n",
      "12/12 [==============================] - 8s 681ms/step - loss: 4.3355e-04 - val_loss: 0.0019\n",
      "Epoch 30/100\n",
      "12/12 [==============================] - 7s 564ms/step - loss: 3.9949e-04 - val_loss: 0.0019\n",
      "Epoch 31/100\n",
      "12/12 [==============================] - 9s 729ms/step - loss: 3.9556e-04 - val_loss: 0.0026\n",
      "Epoch 32/100\n",
      "12/12 [==============================] - 9s 791ms/step - loss: 4.5435e-04 - val_loss: 0.0023\n",
      "Epoch 33/100\n",
      "12/12 [==============================] - 10s 853ms/step - loss: 4.2086e-04 - val_loss: 0.0017\n",
      "Epoch 34/100\n",
      "12/12 [==============================] - 7s 553ms/step - loss: 3.7932e-04 - val_loss: 0.0020\n",
      "Epoch 35/100\n",
      "12/12 [==============================] - 8s 697ms/step - loss: 3.5694e-04 - val_loss: 0.0017\n",
      "Epoch 36/100\n",
      "12/12 [==============================] - 7s 579ms/step - loss: 3.6405e-04 - val_loss: 0.0025\n",
      "Epoch 37/100\n",
      "12/12 [==============================] - 8s 720ms/step - loss: 3.6505e-04 - val_loss: 0.0015\n",
      "Epoch 38/100\n",
      "12/12 [==============================] - 8s 646ms/step - loss: 3.4059e-04 - val_loss: 0.0020\n",
      "Epoch 39/100\n",
      "12/12 [==============================] - 9s 808ms/step - loss: 3.5658e-04 - val_loss: 0.0015\n",
      "Epoch 40/100\n",
      "12/12 [==============================] - 8s 668ms/step - loss: 3.2670e-04 - val_loss: 0.0023\n",
      "Epoch 41/100\n",
      "12/12 [==============================] - 10s 831ms/step - loss: 3.2189e-04 - val_loss: 0.0015\n",
      "Epoch 42/100\n",
      "12/12 [==============================] - 7s 616ms/step - loss: 3.5092e-04 - val_loss: 0.0024\n",
      "Epoch 43/100\n",
      "12/12 [==============================] - 9s 751ms/step - loss: 3.0412e-04 - val_loss: 0.0020\n",
      "Epoch 44/100\n",
      "12/12 [==============================] - 6s 547ms/step - loss: 3.5012e-04 - val_loss: 0.0015\n",
      "Epoch 45/100\n",
      "12/12 [==============================] - 7s 622ms/step - loss: 3.4301e-04 - val_loss: 0.0014\n",
      "Epoch 46/100\n",
      "12/12 [==============================] - 6s 525ms/step - loss: 3.8184e-04 - val_loss: 0.0030\n",
      "Epoch 47/100\n",
      "12/12 [==============================] - 7s 613ms/step - loss: 3.8729e-04 - val_loss: 0.0015\n",
      "Epoch 48/100\n",
      "12/12 [==============================] - 7s 546ms/step - loss: 2.9782e-04 - val_loss: 0.0021\n",
      "Epoch 49/100\n",
      "12/12 [==============================] - 7s 582ms/step - loss: 2.7881e-04 - val_loss: 0.0016\n",
      "Epoch 50/100\n",
      "12/12 [==============================] - 7s 593ms/step - loss: 2.6687e-04 - val_loss: 0.0027\n",
      "Epoch 51/100\n",
      "12/12 [==============================] - 6s 536ms/step - loss: 2.9565e-04 - val_loss: 0.0016\n",
      "Epoch 52/100\n",
      "12/12 [==============================] - 8s 649ms/step - loss: 2.5867e-04 - val_loss: 0.0018\n",
      "Epoch 53/100\n",
      "12/12 [==============================] - 6s 525ms/step - loss: 2.6235e-04 - val_loss: 0.0016\n",
      "Epoch 54/100\n",
      "12/12 [==============================] - 7s 620ms/step - loss: 2.5154e-04 - val_loss: 0.0021\n",
      "Epoch 55/100\n",
      "12/12 [==============================] - 6s 537ms/step - loss: 2.8488e-04 - val_loss: 0.0013\n",
      "Epoch 56/100\n",
      "12/12 [==============================] - 7s 568ms/step - loss: 2.9915e-04 - val_loss: 0.0028\n",
      "Epoch 57/100\n",
      "12/12 [==============================] - 7s 586ms/step - loss: 2.6918e-04 - val_loss: 0.0013\n",
      "Epoch 58/100\n",
      "12/12 [==============================] - 6s 535ms/step - loss: 2.3979e-04 - val_loss: 0.0026\n",
      "Epoch 59/100\n",
      "12/12 [==============================] - 7s 623ms/step - loss: 2.4104e-04 - val_loss: 0.0013\n",
      "Epoch 60/100\n",
      "12/12 [==============================] - 6s 520ms/step - loss: 2.3092e-04 - val_loss: 0.0021\n",
      "Epoch 61/100\n",
      "12/12 [==============================] - 7s 604ms/step - loss: 2.2836e-04 - val_loss: 0.0012\n",
      "Epoch 62/100\n",
      "12/12 [==============================] - 7s 546ms/step - loss: 2.2680e-04 - val_loss: 0.0013\n",
      "Epoch 63/100\n",
      "12/12 [==============================] - 7s 560ms/step - loss: 2.0742e-04 - val_loss: 0.0016\n",
      "Epoch 64/100\n",
      "12/12 [==============================] - 7s 594ms/step - loss: 2.2125e-04 - val_loss: 0.0014\n",
      "Epoch 65/100\n",
      "12/12 [==============================] - 6s 522ms/step - loss: 2.3120e-04 - val_loss: 0.0011\n",
      "Epoch 66/100\n",
      "12/12 [==============================] - 7s 623ms/step - loss: 2.0231e-04 - val_loss: 0.0012\n",
      "Epoch 67/100\n",
      "12/12 [==============================] - 6s 537ms/step - loss: 1.9449e-04 - val_loss: 0.0012\n",
      "Epoch 68/100\n",
      "12/12 [==============================] - 7s 619ms/step - loss: 1.8939e-04 - val_loss: 0.0011\n",
      "Epoch 69/100\n",
      "12/12 [==============================] - 7s 562ms/step - loss: 1.8312e-04 - val_loss: 0.0011\n",
      "Epoch 70/100\n",
      "12/12 [==============================] - 7s 576ms/step - loss: 1.7590e-04 - val_loss: 0.0012\n",
      "Epoch 71/100\n",
      "12/12 [==============================] - 7s 599ms/step - loss: 1.8415e-04 - val_loss: 0.0013\n",
      "Epoch 72/100\n",
      "12/12 [==============================] - 6s 524ms/step - loss: 1.8970e-04 - val_loss: 0.0011\n",
      "Epoch 73/100\n",
      "12/12 [==============================] - 8s 640ms/step - loss: 2.3510e-04 - val_loss: 0.0015\n",
      "Epoch 74/100\n",
      "12/12 [==============================] - 6s 529ms/step - loss: 2.6995e-04 - val_loss: 0.0017\n",
      "Epoch 75/100\n",
      "12/12 [==============================] - 7s 599ms/step - loss: 2.0744e-04 - val_loss: 0.0011\n",
      "Epoch 76/100\n",
      "12/12 [==============================] - 7s 559ms/step - loss: 1.7404e-04 - val_loss: 9.5158e-04\n",
      "Epoch 77/100\n",
      "12/12 [==============================] - 7s 557ms/step - loss: 1.6554e-04 - val_loss: 9.3509e-04\n",
      "Epoch 78/100\n"
     ]
    },
    {
     "name": "stdout",
     "output_type": "stream",
     "text": [
      "12/12 [==============================] - 7s 597ms/step - loss: 1.6891e-04 - val_loss: 9.2182e-04\n",
      "Epoch 79/100\n",
      "12/12 [==============================] - 6s 523ms/step - loss: 1.6611e-04 - val_loss: 0.0010\n",
      "Epoch 80/100\n",
      "12/12 [==============================] - 7s 624ms/step - loss: 1.6704e-04 - val_loss: 8.6143e-04\n",
      "Epoch 81/100\n",
      "12/12 [==============================] - 6s 520ms/step - loss: 1.5020e-04 - val_loss: 8.4154e-04\n",
      "Epoch 82/100\n",
      "12/12 [==============================] - 7s 584ms/step - loss: 1.7033e-04 - val_loss: 0.0011\n",
      "Epoch 83/100\n",
      "12/12 [==============================] - 7s 567ms/step - loss: 1.7974e-04 - val_loss: 8.4736e-04\n",
      "Epoch 84/100\n",
      "12/12 [==============================] - 6s 544ms/step - loss: 2.0535e-04 - val_loss: 9.0794e-04\n",
      "Epoch 85/100\n",
      "12/12 [==============================] - 7s 609ms/step - loss: 1.7908e-04 - val_loss: 0.0013\n",
      "Epoch 86/100\n",
      "12/12 [==============================] - 6s 520ms/step - loss: 1.5446e-04 - val_loss: 8.3922e-04\n",
      "Epoch 87/100\n",
      "12/12 [==============================] - 7s 629ms/step - loss: 1.4916e-04 - val_loss: 8.0704e-04\n",
      "Epoch 88/100\n",
      "12/12 [==============================] - 7s 542ms/step - loss: 1.6726e-04 - val_loss: 7.9837e-04\n",
      "Epoch 89/100\n",
      "12/12 [==============================] - 7s 576ms/step - loss: 1.4803e-04 - val_loss: 0.0011\n",
      "Epoch 90/100\n",
      "12/12 [==============================] - 7s 578ms/step - loss: 1.5154e-04 - val_loss: 7.8983e-04\n",
      "Epoch 91/100\n",
      "12/12 [==============================] - 6s 533ms/step - loss: 1.4023e-04 - val_loss: 8.5106e-04\n",
      "Epoch 92/100\n",
      "12/12 [==============================] - 7s 616ms/step - loss: 1.3502e-04 - val_loss: 7.9757e-04\n",
      "Epoch 93/100\n",
      "12/12 [==============================] - 6s 522ms/step - loss: 1.4027e-04 - val_loss: 9.6218e-04\n",
      "Epoch 94/100\n",
      "12/12 [==============================] - 7s 606ms/step - loss: 1.4744e-04 - val_loss: 8.4938e-04\n",
      "Epoch 95/100\n",
      "12/12 [==============================] - 7s 545ms/step - loss: 1.4555e-04 - val_loss: 7.7904e-04\n",
      "Epoch 96/100\n",
      "12/12 [==============================] - 7s 559ms/step - loss: 1.3202e-04 - val_loss: 7.5966e-04\n",
      "Epoch 97/100\n",
      "12/12 [==============================] - 7s 599ms/step - loss: 1.3602e-04 - val_loss: 7.4943e-04\n",
      "Epoch 98/100\n",
      "12/12 [==============================] - 6s 522ms/step - loss: 1.2801e-04 - val_loss: 7.4586e-04\n",
      "Epoch 99/100\n",
      "12/12 [==============================] - 7s 626ms/step - loss: 1.4499e-04 - val_loss: 7.7243e-04\n",
      "Epoch 100/100\n",
      "12/12 [==============================] - 6s 522ms/step - loss: 1.3113e-04 - val_loss: 7.5828e-04\n"
     ]
    },
    {
     "data": {
      "text/plain": [
       "<keras.callbacks.History at 0x269cf433430>"
      ]
     },
     "execution_count": 71,
     "metadata": {},
     "output_type": "execute_result"
    }
   ],
   "source": [
    "model.fit(X_train,y_train,validation_data=(X_test,ytest),epochs=100,batch_size=64,verbose=1)"
   ]
  },
  {
   "cell_type": "code",
   "execution_count": 65,
   "id": "eb32a043",
   "metadata": {},
   "outputs": [
    {
     "data": {
      "text/plain": [
       "'2.10.0'"
      ]
     },
     "execution_count": 65,
     "metadata": {},
     "output_type": "execute_result"
    }
   ],
   "source": [
    "import tensorflow as tf\n",
    "tf.__version__"
   ]
  },
  {
   "cell_type": "markdown",
   "id": "94150294",
   "metadata": {},
   "source": [
    "# Prediction Performance Metrix"
   ]
  },
  {
   "cell_type": "code",
   "execution_count": 72,
   "id": "42fb6d57",
   "metadata": {},
   "outputs": [
    {
     "name": "stdout",
     "output_type": "stream",
     "text": [
      "23/23 [==============================] - 3s 133ms/step\n",
      "11/11 [==============================] - 2s 139ms/step\n"
     ]
    }
   ],
   "source": [
    "train_predict = model.predict(X_train)\n",
    "test_predict = model.predict(X_test)"
   ]
  },
  {
   "cell_type": "code",
   "execution_count": 67,
   "id": "1163083a",
   "metadata": {},
   "outputs": [
    {
     "data": {
      "text/plain": [
       "(340, 1)"
      ]
     },
     "execution_count": 67,
     "metadata": {},
     "output_type": "execute_result"
    }
   ],
   "source": [
    "test_predict.shape"
   ]
  },
  {
   "cell_type": "markdown",
   "id": "1f0c6270",
   "metadata": {},
   "source": [
    "# Transformback to Original Form"
   ]
  },
  {
   "cell_type": "code",
   "execution_count": 73,
   "id": "e185860f",
   "metadata": {},
   "outputs": [],
   "source": [
    "train_predict = scaler.inverse_transform(train_predict)\n",
    "test_predict = scaler.inverse_transform(test_predict)                  "
   ]
  },
  {
   "cell_type": "code",
   "execution_count": 74,
   "id": "302a55ef",
   "metadata": {},
   "outputs": [
    {
     "data": {
      "text/plain": [
       "141.78011500946636"
      ]
     },
     "execution_count": 74,
     "metadata": {},
     "output_type": "execute_result"
    }
   ],
   "source": [
    "### Calculate RMSE performance metrics\n",
    "import math\n",
    "from sklearn.metrics import mean_squared_error\n",
    "math.sqrt(mean_squared_error(y_train,train_predict))"
   ]
  },
  {
   "cell_type": "code",
   "execution_count": 75,
   "id": "ef4af845",
   "metadata": {},
   "outputs": [
    {
     "data": {
      "text/plain": [
       "238.85769652066094"
      ]
     },
     "execution_count": 75,
     "metadata": {},
     "output_type": "execute_result"
    }
   ],
   "source": [
    "### Test Data RMSE\n",
    "math.sqrt(mean_squared_error(ytest,test_predict))"
   ]
  },
  {
   "cell_type": "code",
   "execution_count": 76,
   "id": "1642b03a",
   "metadata": {},
   "outputs": [
    {
     "data": {
      "image/png": "[encoded data removed]",
      "text/plain": [
       "<Figure size 640x480 with 1 Axes>"
      ]
     },
     "metadata": {},
     "output_type": "display_data"
    }
   ],
   "source": [
    "### Plotting \n",
    "# shift train predictions for plotting\n",
    "look_back=100\n",
    "trainPredictPlot = numpy.empty_like(df1)\n",
    "trainPredictPlot[:, :] = np.nan\n",
    "trainPredictPlot[look_back:len(train_predict)+look_back, :] = train_predict\n",
    "# shift test predictions for plotting\n",
    "testPredictPlot = numpy.empty_like(df1)\n",
    "testPredictPlot[:, :] = numpy.nan\n",
    "testPredictPlot[len(train_predict)+(look_back*2)+1:len(df1)-1, :] = test_predict\n",
    "# plot baseline and predictions\n",
    "plt.plot(scaler.inverse_transform(df1))\n",
    "plt.plot(trainPredictPlot)\n",
    "plt.plot(testPredictPlot)\n",
    "plt.show()"
   ]
  },
  {
   "cell_type": "code",
   "execution_count": 77,
   "id": "25319de7",
   "metadata": {},
   "outputs": [
    {
     "data": {
      "text/plain": [
       "(1, 100)"
      ]
     },
     "execution_count": 77,
     "metadata": {},
     "output_type": "execute_result"
    }
   ],
   "source": [
    "x_input=test_data[341:].reshape(1,-1)\n",
    "x_input.shape"
   ]
  },
  {
   "cell_type": "code",
   "execution_count": 78,
   "id": "10b45e21",
   "metadata": {},
   "outputs": [],
   "source": [
    "temp_input=list(x_input)\n",
    "temp_input=temp_input[0].tolist()"
   ]
  },
  {
   "cell_type": "code",
   "execution_count": 79,
   "id": "fe48b332",
   "metadata": {},
   "outputs": [
    {
     "name": "stdout",
     "output_type": "stream",
     "text": [
      "[0.96081877]\n",
      "101\n",
      "1 day input [0.8866419  0.87431394 0.88431985 0.87836697 0.8986321  0.92582116\n",
      " 0.92877649 0.95676771 0.93869797 0.93304061 0.94950604 0.96424048\n",
      " 0.95512117 0.95989192 0.96635143 0.96246728 0.92295027 0.9598497\n",
      " 0.98792536 0.98594106 0.92531453 0.92172591 0.96474711 0.97572406\n",
      " 0.99159841 0.96972895 0.97614625 0.96795575 1.         0.99016297\n",
      " 0.99050072 0.96538039 0.98488559 0.97086887 0.94026007 0.87748037\n",
      " 0.83483915 0.85413324 0.77336823 0.77269273 0.88014017 0.84007431\n",
      " 0.89673225 0.85527316 0.83884995 0.74233725 0.82327113 0.78143207\n",
      " 0.6665963  0.7921557  0.64118044 0.68614371 0.66001013 0.65203074\n",
      " 0.58642236 0.56586169 0.66089673 0.65515494 0.70970193 0.66452757\n",
      " 0.69437642 0.69218104 0.63569197 0.65266402 0.63780292 0.7267162\n",
      " 0.71388162 0.74191506 0.75002111 0.77222832 0.83049059 0.8194292\n",
      " 0.8289707  0.8125475  0.78776492 0.75162543 0.78426074 0.77974331\n",
      " 0.81326522 0.8141096  0.79473106 0.83336148 0.85898843 0.83901883\n",
      " 0.85628641 0.87486279 0.88782403 0.90095415 0.92793211 0.948535\n",
      " 0.93333615 0.91746179 0.92544119 0.91771511 0.9483239  0.94064004\n",
      " 0.96635143 0.9563033  0.96491598 0.96081877]\n",
      "1 day output [[0.96072185]]\n",
      "2 day input [0.87431394 0.88431985 0.87836697 0.8986321  0.92582116 0.92877649\n",
      " 0.95676771 0.93869797 0.93304061 0.94950604 0.96424048 0.95512117\n",
      " 0.95989192 0.96635143 0.96246728 0.92295027 0.9598497  0.98792536\n",
      " 0.98594106 0.92531453 0.92172591 0.96474711 0.97572406 0.99159841\n",
      " 0.96972895 0.97614625 0.96795575 1.         0.99016297 0.99050072\n",
      " 0.96538039 0.98488559 0.97086887 0.94026007 0.87748037 0.83483915\n",
      " 0.85413324 0.77336823 0.77269273 0.88014017 0.84007431 0.89673225\n",
      " 0.85527316 0.83884995 0.74233725 0.82327113 0.78143207 0.6665963\n",
      " 0.7921557  0.64118044 0.68614371 0.66001013 0.65203074 0.58642236\n",
      " 0.56586169 0.66089673 0.65515494 0.70970193 0.66452757 0.69437642\n",
      " 0.69218104 0.63569197 0.65266402 0.63780292 0.7267162  0.71388162\n",
      " 0.74191506 0.75002111 0.77222832 0.83049059 0.8194292  0.8289707\n",
      " 0.8125475  0.78776492 0.75162543 0.78426074 0.77974331 0.81326522\n",
      " 0.8141096  0.79473106 0.83336148 0.85898843 0.83901883 0.85628641\n",
      " 0.87486279 0.88782403 0.90095415 0.92793211 0.948535   0.93333615\n",
      " 0.91746179 0.92544119 0.91771511 0.9483239  0.94064004 0.96635143\n",
      " 0.9563033  0.96491598 0.96081877 0.96072185]\n",
      "2 day output [[0.96004504]]\n",
      "3 day input [0.88431985 0.87836697 0.8986321  0.92582116 0.92877649 0.95676771\n",
      " 0.93869797 0.93304061 0.94950604 0.96424048 0.95512117 0.95989192\n",
      " 0.96635143 0.96246728 0.92295027 0.9598497  0.98792536 0.98594106\n",
      " 0.92531453 0.92172591 0.96474711 0.97572406 0.99159841 0.96972895\n",
      " 0.97614625 0.96795575 1.         0.99016297 0.99050072 0.96538039\n",
      " 0.98488559 0.97086887 0.94026007 0.87748037 0.83483915 0.85413324\n",
      " 0.77336823 0.77269273 0.88014017 0.84007431 0.89673225 0.85527316\n",
      " 0.83884995 0.74233725 0.82327113 0.78143207 0.6665963  0.7921557\n",
      " 0.64118044 0.68614371 0.66001013 0.65203074 0.58642236 0.56586169\n",
      " 0.66089673 0.65515494 0.70970193 0.66452757 0.69437642 0.69218104\n",
      " 0.63569197 0.65266402 0.63780292 0.7267162  0.71388162 0.74191506\n",
      " 0.75002111 0.77222832 0.83049059 0.8194292  0.8289707  0.8125475\n",
      " 0.78776492 0.75162543 0.78426074 0.77974331 0.81326522 0.8141096\n",
      " 0.79473106 0.83336148 0.85898843 0.83901883 0.85628641 0.87486279\n",
      " 0.88782403 0.90095415 0.92793211 0.948535   0.93333615 0.91746179\n",
      " 0.92544119 0.91771511 0.9483239  0.94064004 0.96635143 0.9563033\n",
      " 0.96491598 0.96081877 0.96072185 0.96004504]\n",
      "3 day output [[0.9598508]]\n",
      "4 day input [0.87836697 0.8986321  0.92582116 0.92877649 0.95676771 0.93869797\n",
      " 0.93304061 0.94950604 0.96424048 0.95512117 0.95989192 0.96635143\n",
      " 0.96246728 0.92295027 0.9598497  0.98792536 0.98594106 0.92531453\n",
      " 0.92172591 0.96474711 0.97572406 0.99159841 0.96972895 0.97614625\n",
      " 0.96795575 1.         0.99016297 0.99050072 0.96538039 0.98488559\n",
      " 0.97086887 0.94026007 0.87748037 0.83483915 0.85413324 0.77336823\n",
      " 0.77269273 0.88014017 0.84007431 0.89673225 0.85527316 0.83884995\n",
      " 0.74233725 0.82327113 0.78143207 0.6665963  0.7921557  0.64118044\n",
      " 0.68614371 0.66001013 0.65203074 0.58642236 0.56586169 0.66089673\n",
      " 0.65515494 0.70970193 0.66452757 0.69437642 0.69218104 0.63569197\n",
      " 0.65266402 0.63780292 0.7267162  0.71388162 0.74191506 0.75002111\n",
      " 0.77222832 0.83049059 0.8194292  0.8289707  0.8125475  0.78776492\n",
      " 0.75162543 0.78426074 0.77974331 0.81326522 0.8141096  0.79473106\n",
      " 0.83336148 0.85898843 0.83901883 0.85628641 0.87486279 0.88782403\n",
      " 0.90095415 0.92793211 0.948535   0.93333615 0.91746179 0.92544119\n",
      " 0.91771511 0.9483239  0.94064004 0.96635143 0.9563033  0.96491598\n",
      " 0.96081877 0.96072185 0.96004504 0.95985079]\n",
      "4 day output [[0.9603377]]\n",
      "5 day input [0.8986321  0.92582116 0.92877649 0.95676771 0.93869797 0.93304061\n",
      " 0.94950604 0.96424048 0.95512117 0.95989192 0.96635143 0.96246728\n",
      " 0.92295027 0.9598497  0.98792536 0.98594106 0.92531453 0.92172591\n",
      " 0.96474711 0.97572406 0.99159841 0.96972895 0.97614625 0.96795575\n",
      " 1.         0.99016297 0.99050072 0.96538039 0.98488559 0.97086887\n",
      " 0.94026007 0.87748037 0.83483915 0.85413324 0.77336823 0.77269273\n",
      " 0.88014017 0.84007431 0.89673225 0.85527316 0.83884995 0.74233725\n",
      " 0.82327113 0.78143207 0.6665963  0.7921557  0.64118044 0.68614371\n",
      " 0.66001013 0.65203074 0.58642236 0.56586169 0.66089673 0.65515494\n",
      " 0.70970193 0.66452757 0.69437642 0.69218104 0.63569197 0.65266402\n",
      " 0.63780292 0.7267162  0.71388162 0.74191506 0.75002111 0.77222832\n",
      " 0.83049059 0.8194292  0.8289707  0.8125475  0.78776492 0.75162543\n",
      " 0.78426074 0.77974331 0.81326522 0.8141096  0.79473106 0.83336148\n",
      " 0.85898843 0.83901883 0.85628641 0.87486279 0.88782403 0.90095415\n",
      " 0.92793211 0.948535   0.93333615 0.91746179 0.92544119 0.91771511\n",
      " 0.9483239  0.94064004 0.96635143 0.9563033  0.96491598 0.96081877\n",
      " 0.96072185 0.96004504 0.95985079 0.9603377 ]\n",
      "5 day output [[0.96139777]]\n",
      "6 day input [0.92582116 0.92877649 0.95676771 0.93869797 0.93304061 0.94950604\n",
      " 0.96424048 0.95512117 0.95989192 0.96635143 0.96246728 0.92295027\n",
      " 0.9598497  0.98792536 0.98594106 0.92531453 0.92172591 0.96474711\n",
      " 0.97572406 0.99159841 0.96972895 0.97614625 0.96795575 1.\n",
      " 0.99016297 0.99050072 0.96538039 0.98488559 0.97086887 0.94026007\n",
      " 0.87748037 0.83483915 0.85413324 0.77336823 0.77269273 0.88014017\n",
      " 0.84007431 0.89673225 0.85527316 0.83884995 0.74233725 0.82327113\n",
      " 0.78143207 0.6665963  0.7921557  0.64118044 0.68614371 0.66001013\n",
      " 0.65203074 0.58642236 0.56586169 0.66089673 0.65515494 0.70970193\n",
      " 0.66452757 0.69437642 0.69218104 0.63569197 0.65266402 0.63780292\n",
      " 0.7267162  0.71388162 0.74191506 0.75002111 0.77222832 0.83049059\n",
      " 0.8194292  0.8289707  0.8125475  0.78776492 0.75162543 0.78426074\n",
      " 0.77974331 0.81326522 0.8141096  0.79473106 0.83336148 0.85898843\n",
      " 0.83901883 0.85628641 0.87486279 0.88782403 0.90095415 0.92793211\n",
      " 0.948535   0.93333615 0.91746179 0.92544119 0.91771511 0.9483239\n",
      " 0.94064004 0.96635143 0.9563033  0.96491598 0.96081877 0.96072185\n",
      " 0.96004504 0.95985079 0.9603377  0.96139777]\n",
      "6 day output [[0.96287596]]\n",
      "7 day input [0.92877649 0.95676771 0.93869797 0.93304061 0.94950604 0.96424048\n",
      " 0.95512117 0.95989192 0.96635143 0.96246728 0.92295027 0.9598497\n",
      " 0.98792536 0.98594106 0.92531453 0.92172591 0.96474711 0.97572406\n",
      " 0.99159841 0.96972895 0.97614625 0.96795575 1.         0.99016297\n",
      " 0.99050072 0.96538039 0.98488559 0.97086887 0.94026007 0.87748037\n",
      " 0.83483915 0.85413324 0.77336823 0.77269273 0.88014017 0.84007431\n",
      " 0.89673225 0.85527316 0.83884995 0.74233725 0.82327113 0.78143207\n",
      " 0.6665963  0.7921557  0.64118044 0.68614371 0.66001013 0.65203074\n",
      " 0.58642236 0.56586169 0.66089673 0.65515494 0.70970193 0.66452757\n",
      " 0.69437642 0.69218104 0.63569197 0.65266402 0.63780292 0.7267162\n",
      " 0.71388162 0.74191506 0.75002111 0.77222832 0.83049059 0.8194292\n",
      " 0.8289707  0.8125475  0.78776492 0.75162543 0.78426074 0.77974331\n",
      " 0.81326522 0.8141096  0.79473106 0.83336148 0.85898843 0.83901883\n",
      " 0.85628641 0.87486279 0.88782403 0.90095415 0.92793211 0.948535\n",
      " 0.93333615 0.91746179 0.92544119 0.91771511 0.9483239  0.94064004\n",
      " 0.96635143 0.9563033  0.96491598 0.96081877 0.96072185 0.96004504\n",
      " 0.95985079 0.9603377  0.96139777 0.96287596]\n",
      "7 day output [[0.96464086]]\n",
      "8 day input [0.95676771 0.93869797 0.93304061 0.94950604 0.96424048 0.95512117\n",
      " 0.95989192 0.96635143 0.96246728 0.92295027 0.9598497  0.98792536\n",
      " 0.98594106 0.92531453 0.92172591 0.96474711 0.97572406 0.99159841\n",
      " 0.96972895 0.97614625 0.96795575 1.         0.99016297 0.99050072\n",
      " 0.96538039 0.98488559 0.97086887 0.94026007 0.87748037 0.83483915\n",
      " 0.85413324 0.77336823 0.77269273 0.88014017 0.84007431 0.89673225\n",
      " 0.85527316 0.83884995 0.74233725 0.82327113 0.78143207 0.6665963\n",
      " 0.7921557  0.64118044 0.68614371 0.66001013 0.65203074 0.58642236\n",
      " 0.56586169 0.66089673 0.65515494 0.70970193 0.66452757 0.69437642\n",
      " 0.69218104 0.63569197 0.65266402 0.63780292 0.7267162  0.71388162\n",
      " 0.74191506 0.75002111 0.77222832 0.83049059 0.8194292  0.8289707\n",
      " 0.8125475  0.78776492 0.75162543 0.78426074 0.77974331 0.81326522\n",
      " 0.8141096  0.79473106 0.83336148 0.85898843 0.83901883 0.85628641\n",
      " 0.87486279 0.88782403 0.90095415 0.92793211 0.948535   0.93333615\n",
      " 0.91746179 0.92544119 0.91771511 0.9483239  0.94064004 0.96635143\n",
      " 0.9563033  0.96491598 0.96081877 0.96072185 0.96004504 0.95985079\n",
      " 0.9603377  0.96139777 0.96287596 0.96464086]\n"
     ]
    },
    {
     "name": "stdout",
     "output_type": "stream",
     "text": [
      "8 day output [[0.9665907]]\n",
      "9 day input [0.93869797 0.93304061 0.94950604 0.96424048 0.95512117 0.95989192\n",
      " 0.96635143 0.96246728 0.92295027 0.9598497  0.98792536 0.98594106\n",
      " 0.92531453 0.92172591 0.96474711 0.97572406 0.99159841 0.96972895\n",
      " 0.97614625 0.96795575 1.         0.99016297 0.99050072 0.96538039\n",
      " 0.98488559 0.97086887 0.94026007 0.87748037 0.83483915 0.85413324\n",
      " 0.77336823 0.77269273 0.88014017 0.84007431 0.89673225 0.85527316\n",
      " 0.83884995 0.74233725 0.82327113 0.78143207 0.6665963  0.7921557\n",
      " 0.64118044 0.68614371 0.66001013 0.65203074 0.58642236 0.56586169\n",
      " 0.66089673 0.65515494 0.70970193 0.66452757 0.69437642 0.69218104\n",
      " 0.63569197 0.65266402 0.63780292 0.7267162  0.71388162 0.74191506\n",
      " 0.75002111 0.77222832 0.83049059 0.8194292  0.8289707  0.8125475\n",
      " 0.78776492 0.75162543 0.78426074 0.77974331 0.81326522 0.8141096\n",
      " 0.79473106 0.83336148 0.85898843 0.83901883 0.85628641 0.87486279\n",
      " 0.88782403 0.90095415 0.92793211 0.948535   0.93333615 0.91746179\n",
      " 0.92544119 0.91771511 0.9483239  0.94064004 0.96635143 0.9563033\n",
      " 0.96491598 0.96081877 0.96072185 0.96004504 0.95985079 0.9603377\n",
      " 0.96139777 0.96287596 0.96464086 0.9665907 ]\n",
      "9 day output [[0.9686503]]\n",
      "10 day input [0.93304061 0.94950604 0.96424048 0.95512117 0.95989192 0.96635143\n",
      " 0.96246728 0.92295027 0.9598497  0.98792536 0.98594106 0.92531453\n",
      " 0.92172591 0.96474711 0.97572406 0.99159841 0.96972895 0.97614625\n",
      " 0.96795575 1.         0.99016297 0.99050072 0.96538039 0.98488559\n",
      " 0.97086887 0.94026007 0.87748037 0.83483915 0.85413324 0.77336823\n",
      " 0.77269273 0.88014017 0.84007431 0.89673225 0.85527316 0.83884995\n",
      " 0.74233725 0.82327113 0.78143207 0.6665963  0.7921557  0.64118044\n",
      " 0.68614371 0.66001013 0.65203074 0.58642236 0.56586169 0.66089673\n",
      " 0.65515494 0.70970193 0.66452757 0.69437642 0.69218104 0.63569197\n",
      " 0.65266402 0.63780292 0.7267162  0.71388162 0.74191506 0.75002111\n",
      " 0.77222832 0.83049059 0.8194292  0.8289707  0.8125475  0.78776492\n",
      " 0.75162543 0.78426074 0.77974331 0.81326522 0.8141096  0.79473106\n",
      " 0.83336148 0.85898843 0.83901883 0.85628641 0.87486279 0.88782403\n",
      " 0.90095415 0.92793211 0.948535   0.93333615 0.91746179 0.92544119\n",
      " 0.91771511 0.9483239  0.94064004 0.96635143 0.9563033  0.96491598\n",
      " 0.96081877 0.96072185 0.96004504 0.95985079 0.9603377  0.96139777\n",
      " 0.96287596 0.96464086 0.9665907  0.96865028]\n",
      "10 day output [[0.97077185]]\n",
      "11 day input [0.94950604 0.96424048 0.95512117 0.95989192 0.96635143 0.96246728\n",
      " 0.92295027 0.9598497  0.98792536 0.98594106 0.92531453 0.92172591\n",
      " 0.96474711 0.97572406 0.99159841 0.96972895 0.97614625 0.96795575\n",
      " 1.         0.99016297 0.99050072 0.96538039 0.98488559 0.97086887\n",
      " 0.94026007 0.87748037 0.83483915 0.85413324 0.77336823 0.77269273\n",
      " 0.88014017 0.84007431 0.89673225 0.85527316 0.83884995 0.74233725\n",
      " 0.82327113 0.78143207 0.6665963  0.7921557  0.64118044 0.68614371\n",
      " 0.66001013 0.65203074 0.58642236 0.56586169 0.66089673 0.65515494\n",
      " 0.70970193 0.66452757 0.69437642 0.69218104 0.63569197 0.65266402\n",
      " 0.63780292 0.7267162  0.71388162 0.74191506 0.75002111 0.77222832\n",
      " 0.83049059 0.8194292  0.8289707  0.8125475  0.78776492 0.75162543\n",
      " 0.78426074 0.77974331 0.81326522 0.8141096  0.79473106 0.83336148\n",
      " 0.85898843 0.83901883 0.85628641 0.87486279 0.88782403 0.90095415\n",
      " 0.92793211 0.948535   0.93333615 0.91746179 0.92544119 0.91771511\n",
      " 0.9483239  0.94064004 0.96635143 0.9563033  0.96491598 0.96081877\n",
      " 0.96072185 0.96004504 0.95985079 0.9603377  0.96139777 0.96287596\n",
      " 0.96464086 0.9665907  0.96865028 0.97077185]\n",
      "11 day output [[0.97293085]]\n",
      "12 day input [0.96424048 0.95512117 0.95989192 0.96635143 0.96246728 0.92295027\n",
      " 0.9598497  0.98792536 0.98594106 0.92531453 0.92172591 0.96474711\n",
      " 0.97572406 0.99159841 0.96972895 0.97614625 0.96795575 1.\n",
      " 0.99016297 0.99050072 0.96538039 0.98488559 0.97086887 0.94026007\n",
      " 0.87748037 0.83483915 0.85413324 0.77336823 0.77269273 0.88014017\n",
      " 0.84007431 0.89673225 0.85527316 0.83884995 0.74233725 0.82327113\n",
      " 0.78143207 0.6665963  0.7921557  0.64118044 0.68614371 0.66001013\n",
      " 0.65203074 0.58642236 0.56586169 0.66089673 0.65515494 0.70970193\n",
      " 0.66452757 0.69437642 0.69218104 0.63569197 0.65266402 0.63780292\n",
      " 0.7267162  0.71388162 0.74191506 0.75002111 0.77222832 0.83049059\n",
      " 0.8194292  0.8289707  0.8125475  0.78776492 0.75162543 0.78426074\n",
      " 0.77974331 0.81326522 0.8141096  0.79473106 0.83336148 0.85898843\n",
      " 0.83901883 0.85628641 0.87486279 0.88782403 0.90095415 0.92793211\n",
      " 0.948535   0.93333615 0.91746179 0.92544119 0.91771511 0.9483239\n",
      " 0.94064004 0.96635143 0.9563033  0.96491598 0.96081877 0.96072185\n",
      " 0.96004504 0.95985079 0.9603377  0.96139777 0.96287596 0.96464086\n",
      " 0.9665907  0.96865028 0.97077185 0.97293085]\n",
      "12 day output [[0.9751221]]\n",
      "13 day input [0.95512117 0.95989192 0.96635143 0.96246728 0.92295027 0.9598497\n",
      " 0.98792536 0.98594106 0.92531453 0.92172591 0.96474711 0.97572406\n",
      " 0.99159841 0.96972895 0.97614625 0.96795575 1.         0.99016297\n",
      " 0.99050072 0.96538039 0.98488559 0.97086887 0.94026007 0.87748037\n",
      " 0.83483915 0.85413324 0.77336823 0.77269273 0.88014017 0.84007431\n",
      " 0.89673225 0.85527316 0.83884995 0.74233725 0.82327113 0.78143207\n",
      " 0.6665963  0.7921557  0.64118044 0.68614371 0.66001013 0.65203074\n",
      " 0.58642236 0.56586169 0.66089673 0.65515494 0.70970193 0.66452757\n",
      " 0.69437642 0.69218104 0.63569197 0.65266402 0.63780292 0.7267162\n",
      " 0.71388162 0.74191506 0.75002111 0.77222832 0.83049059 0.8194292\n",
      " 0.8289707  0.8125475  0.78776492 0.75162543 0.78426074 0.77974331\n",
      " 0.81326522 0.8141096  0.79473106 0.83336148 0.85898843 0.83901883\n",
      " 0.85628641 0.87486279 0.88782403 0.90095415 0.92793211 0.948535\n",
      " 0.93333615 0.91746179 0.92544119 0.91771511 0.9483239  0.94064004\n",
      " 0.96635143 0.9563033  0.96491598 0.96081877 0.96072185 0.96004504\n",
      " 0.95985079 0.9603377  0.96139777 0.96287596 0.96464086 0.9665907\n",
      " 0.96865028 0.97077185 0.97293085 0.97512209]\n",
      "13 day output [[0.97735286]]\n",
      "14 day input [0.95989192 0.96635143 0.96246728 0.92295027 0.9598497  0.98792536\n",
      " 0.98594106 0.92531453 0.92172591 0.96474711 0.97572406 0.99159841\n",
      " 0.96972895 0.97614625 0.96795575 1.         0.99016297 0.99050072\n",
      " 0.96538039 0.98488559 0.97086887 0.94026007 0.87748037 0.83483915\n",
      " 0.85413324 0.77336823 0.77269273 0.88014017 0.84007431 0.89673225\n",
      " 0.85527316 0.83884995 0.74233725 0.82327113 0.78143207 0.6665963\n",
      " 0.7921557  0.64118044 0.68614371 0.66001013 0.65203074 0.58642236\n",
      " 0.56586169 0.66089673 0.65515494 0.70970193 0.66452757 0.69437642\n",
      " 0.69218104 0.63569197 0.65266402 0.63780292 0.7267162  0.71388162\n",
      " 0.74191506 0.75002111 0.77222832 0.83049059 0.8194292  0.8289707\n",
      " 0.8125475  0.78776492 0.75162543 0.78426074 0.77974331 0.81326522\n",
      " 0.8141096  0.79473106 0.83336148 0.85898843 0.83901883 0.85628641\n",
      " 0.87486279 0.88782403 0.90095415 0.92793211 0.948535   0.93333615\n",
      " 0.91746179 0.92544119 0.91771511 0.9483239  0.94064004 0.96635143\n",
      " 0.9563033  0.96491598 0.96081877 0.96072185 0.96004504 0.95985079\n",
      " 0.9603377  0.96139777 0.96287596 0.96464086 0.9665907  0.96865028\n",
      " 0.97077185 0.97293085 0.97512209 0.97735286]\n",
      "14 day output [[0.97963697]]\n",
      "15 day input [0.96635143 0.96246728 0.92295027 0.9598497  0.98792536 0.98594106\n",
      " 0.92531453 0.92172591 0.96474711 0.97572406 0.99159841 0.96972895\n",
      " 0.97614625 0.96795575 1.         0.99016297 0.99050072 0.96538039\n",
      " 0.98488559 0.97086887 0.94026007 0.87748037 0.83483915 0.85413324\n",
      " 0.77336823 0.77269273 0.88014017 0.84007431 0.89673225 0.85527316\n",
      " 0.83884995 0.74233725 0.82327113 0.78143207 0.6665963  0.7921557\n",
      " 0.64118044 0.68614371 0.66001013 0.65203074 0.58642236 0.56586169\n",
      " 0.66089673 0.65515494 0.70970193 0.66452757 0.69437642 0.69218104\n",
      " 0.63569197 0.65266402 0.63780292 0.7267162  0.71388162 0.74191506\n",
      " 0.75002111 0.77222832 0.83049059 0.8194292  0.8289707  0.8125475\n",
      " 0.78776492 0.75162543 0.78426074 0.77974331 0.81326522 0.8141096\n",
      " 0.79473106 0.83336148 0.85898843 0.83901883 0.85628641 0.87486279\n",
      " 0.88782403 0.90095415 0.92793211 0.948535   0.93333615 0.91746179\n",
      " 0.92544119 0.91771511 0.9483239  0.94064004 0.96635143 0.9563033\n",
      " 0.96491598 0.96081877 0.96072185 0.96004504 0.95985079 0.9603377\n",
      " 0.96139777 0.96287596 0.96464086 0.9665907  0.96865028 0.97077185\n",
      " 0.97293085 0.97512209 0.97735286 0.97963697]\n",
      "15 day output [[0.9819877]]\n",
      "16 day input [0.96246728 0.92295027 0.9598497  0.98792536 0.98594106 0.92531453\n",
      " 0.92172591 0.96474711 0.97572406 0.99159841 0.96972895 0.97614625\n",
      " 0.96795575 1.         0.99016297 0.99050072 0.96538039 0.98488559\n",
      " 0.97086887 0.94026007 0.87748037 0.83483915 0.85413324 0.77336823\n",
      " 0.77269273 0.88014017 0.84007431 0.89673225 0.85527316 0.83884995\n",
      " 0.74233725 0.82327113 0.78143207 0.6665963  0.7921557  0.64118044\n",
      " 0.68614371 0.66001013 0.65203074 0.58642236 0.56586169 0.66089673\n",
      " 0.65515494 0.70970193 0.66452757 0.69437642 0.69218104 0.63569197\n",
      " 0.65266402 0.63780292 0.7267162  0.71388162 0.74191506 0.75002111\n",
      " 0.77222832 0.83049059 0.8194292  0.8289707  0.8125475  0.78776492\n",
      " 0.75162543 0.78426074 0.77974331 0.81326522 0.8141096  0.79473106\n",
      " 0.83336148 0.85898843 0.83901883 0.85628641 0.87486279 0.88782403\n",
      " 0.90095415 0.92793211 0.948535   0.93333615 0.91746179 0.92544119\n",
      " 0.91771511 0.9483239  0.94064004 0.96635143 0.9563033  0.96491598\n",
      " 0.96081877 0.96072185 0.96004504 0.95985079 0.9603377  0.96139777\n",
      " 0.96287596 0.96464086 0.9665907  0.96865028 0.97077185 0.97293085\n",
      " 0.97512209 0.97735286 0.97963697 0.98198771]\n"
     ]
    },
    {
     "name": "stdout",
     "output_type": "stream",
     "text": [
      "16 day output [[0.9844159]]\n",
      "17 day input [0.92295027 0.9598497  0.98792536 0.98594106 0.92531453 0.92172591\n",
      " 0.96474711 0.97572406 0.99159841 0.96972895 0.97614625 0.96795575\n",
      " 1.         0.99016297 0.99050072 0.96538039 0.98488559 0.97086887\n",
      " 0.94026007 0.87748037 0.83483915 0.85413324 0.77336823 0.77269273\n",
      " 0.88014017 0.84007431 0.89673225 0.85527316 0.83884995 0.74233725\n",
      " 0.82327113 0.78143207 0.6665963  0.7921557  0.64118044 0.68614371\n",
      " 0.66001013 0.65203074 0.58642236 0.56586169 0.66089673 0.65515494\n",
      " 0.70970193 0.66452757 0.69437642 0.69218104 0.63569197 0.65266402\n",
      " 0.63780292 0.7267162  0.71388162 0.74191506 0.75002111 0.77222832\n",
      " 0.83049059 0.8194292  0.8289707  0.8125475  0.78776492 0.75162543\n",
      " 0.78426074 0.77974331 0.81326522 0.8141096  0.79473106 0.83336148\n",
      " 0.85898843 0.83901883 0.85628641 0.87486279 0.88782403 0.90095415\n",
      " 0.92793211 0.948535   0.93333615 0.91746179 0.92544119 0.91771511\n",
      " 0.9483239  0.94064004 0.96635143 0.9563033  0.96491598 0.96081877\n",
      " 0.96072185 0.96004504 0.95985079 0.9603377  0.96139777 0.96287596\n",
      " 0.96464086 0.9665907  0.96865028 0.97077185 0.97293085 0.97512209\n",
      " 0.97735286 0.97963697 0.98198771 0.98441589]\n",
      "17 day output [[0.9869266]]\n",
      "18 day input [0.9598497  0.98792536 0.98594106 0.92531453 0.92172591 0.96474711\n",
      " 0.97572406 0.99159841 0.96972895 0.97614625 0.96795575 1.\n",
      " 0.99016297 0.99050072 0.96538039 0.98488559 0.97086887 0.94026007\n",
      " 0.87748037 0.83483915 0.85413324 0.77336823 0.77269273 0.88014017\n",
      " 0.84007431 0.89673225 0.85527316 0.83884995 0.74233725 0.82327113\n",
      " 0.78143207 0.6665963  0.7921557  0.64118044 0.68614371 0.66001013\n",
      " 0.65203074 0.58642236 0.56586169 0.66089673 0.65515494 0.70970193\n",
      " 0.66452757 0.69437642 0.69218104 0.63569197 0.65266402 0.63780292\n",
      " 0.7267162  0.71388162 0.74191506 0.75002111 0.77222832 0.83049059\n",
      " 0.8194292  0.8289707  0.8125475  0.78776492 0.75162543 0.78426074\n",
      " 0.77974331 0.81326522 0.8141096  0.79473106 0.83336148 0.85898843\n",
      " 0.83901883 0.85628641 0.87486279 0.88782403 0.90095415 0.92793211\n",
      " 0.948535   0.93333615 0.91746179 0.92544119 0.91771511 0.9483239\n",
      " 0.94064004 0.96635143 0.9563033  0.96491598 0.96081877 0.96072185\n",
      " 0.96004504 0.95985079 0.9603377  0.96139777 0.96287596 0.96464086\n",
      " 0.9665907  0.96865028 0.97077185 0.97293085 0.97512209 0.97735286\n",
      " 0.97963697 0.98198771 0.98441589 0.98692662]\n",
      "18 day output [[0.9895195]]\n",
      "19 day input [0.98792536 0.98594106 0.92531453 0.92172591 0.96474711 0.97572406\n",
      " 0.99159841 0.96972895 0.97614625 0.96795575 1.         0.99016297\n",
      " 0.99050072 0.96538039 0.98488559 0.97086887 0.94026007 0.87748037\n",
      " 0.83483915 0.85413324 0.77336823 0.77269273 0.88014017 0.84007431\n",
      " 0.89673225 0.85527316 0.83884995 0.74233725 0.82327113 0.78143207\n",
      " 0.6665963  0.7921557  0.64118044 0.68614371 0.66001013 0.65203074\n",
      " 0.58642236 0.56586169 0.66089673 0.65515494 0.70970193 0.66452757\n",
      " 0.69437642 0.69218104 0.63569197 0.65266402 0.63780292 0.7267162\n",
      " 0.71388162 0.74191506 0.75002111 0.77222832 0.83049059 0.8194292\n",
      " 0.8289707  0.8125475  0.78776492 0.75162543 0.78426074 0.77974331\n",
      " 0.81326522 0.8141096  0.79473106 0.83336148 0.85898843 0.83901883\n",
      " 0.85628641 0.87486279 0.88782403 0.90095415 0.92793211 0.948535\n",
      " 0.93333615 0.91746179 0.92544119 0.91771511 0.9483239  0.94064004\n",
      " 0.96635143 0.9563033  0.96491598 0.96081877 0.96072185 0.96004504\n",
      " 0.95985079 0.9603377  0.96139777 0.96287596 0.96464086 0.9665907\n",
      " 0.96865028 0.97077185 0.97293085 0.97512209 0.97735286 0.97963697\n",
      " 0.98198771 0.98441589 0.98692662 0.98951948]\n",
      "19 day output [[0.9921882]]\n",
      "20 day input [0.98594106 0.92531453 0.92172591 0.96474711 0.97572406 0.99159841\n",
      " 0.96972895 0.97614625 0.96795575 1.         0.99016297 0.99050072\n",
      " 0.96538039 0.98488559 0.97086887 0.94026007 0.87748037 0.83483915\n",
      " 0.85413324 0.77336823 0.77269273 0.88014017 0.84007431 0.89673225\n",
      " 0.85527316 0.83884995 0.74233725 0.82327113 0.78143207 0.6665963\n",
      " 0.7921557  0.64118044 0.68614371 0.66001013 0.65203074 0.58642236\n",
      " 0.56586169 0.66089673 0.65515494 0.70970193 0.66452757 0.69437642\n",
      " 0.69218104 0.63569197 0.65266402 0.63780292 0.7267162  0.71388162\n",
      " 0.74191506 0.75002111 0.77222832 0.83049059 0.8194292  0.8289707\n",
      " 0.8125475  0.78776492 0.75162543 0.78426074 0.77974331 0.81326522\n",
      " 0.8141096  0.79473106 0.83336148 0.85898843 0.83901883 0.85628641\n",
      " 0.87486279 0.88782403 0.90095415 0.92793211 0.948535   0.93333615\n",
      " 0.91746179 0.92544119 0.91771511 0.9483239  0.94064004 0.96635143\n",
      " 0.9563033  0.96491598 0.96081877 0.96072185 0.96004504 0.95985079\n",
      " 0.9603377  0.96139777 0.96287596 0.96464086 0.9665907  0.96865028\n",
      " 0.97077185 0.97293085 0.97512209 0.97735286 0.97963697 0.98198771\n",
      " 0.98441589 0.98692662 0.98951948 0.99218822]\n",
      "20 day output [[0.994923]]\n",
      "21 day input [0.92531453 0.92172591 0.96474711 0.97572406 0.99159841 0.96972895\n",
      " 0.97614625 0.96795575 1.         0.99016297 0.99050072 0.96538039\n",
      " 0.98488559 0.97086887 0.94026007 0.87748037 0.83483915 0.85413324\n",
      " 0.77336823 0.77269273 0.88014017 0.84007431 0.89673225 0.85527316\n",
      " 0.83884995 0.74233725 0.82327113 0.78143207 0.6665963  0.7921557\n",
      " 0.64118044 0.68614371 0.66001013 0.65203074 0.58642236 0.56586169\n",
      " 0.66089673 0.65515494 0.70970193 0.66452757 0.69437642 0.69218104\n",
      " 0.63569197 0.65266402 0.63780292 0.7267162  0.71388162 0.74191506\n",
      " 0.75002111 0.77222832 0.83049059 0.8194292  0.8289707  0.8125475\n",
      " 0.78776492 0.75162543 0.78426074 0.77974331 0.81326522 0.8141096\n",
      " 0.79473106 0.83336148 0.85898843 0.83901883 0.85628641 0.87486279\n",
      " 0.88782403 0.90095415 0.92793211 0.948535   0.93333615 0.91746179\n",
      " 0.92544119 0.91771511 0.9483239  0.94064004 0.96635143 0.9563033\n",
      " 0.96491598 0.96081877 0.96072185 0.96004504 0.95985079 0.9603377\n",
      " 0.96139777 0.96287596 0.96464086 0.9665907  0.96865028 0.97077185\n",
      " 0.97293085 0.97512209 0.97735286 0.97963697 0.98198771 0.98441589\n",
      " 0.98692662 0.98951948 0.99218822 0.994923  ]\n",
      "21 day output [[0.9977112]]\n",
      "22 day input [0.92172591 0.96474711 0.97572406 0.99159841 0.96972895 0.97614625\n",
      " 0.96795575 1.         0.99016297 0.99050072 0.96538039 0.98488559\n",
      " 0.97086887 0.94026007 0.87748037 0.83483915 0.85413324 0.77336823\n",
      " 0.77269273 0.88014017 0.84007431 0.89673225 0.85527316 0.83884995\n",
      " 0.74233725 0.82327113 0.78143207 0.6665963  0.7921557  0.64118044\n",
      " 0.68614371 0.66001013 0.65203074 0.58642236 0.56586169 0.66089673\n",
      " 0.65515494 0.70970193 0.66452757 0.69437642 0.69218104 0.63569197\n",
      " 0.65266402 0.63780292 0.7267162  0.71388162 0.74191506 0.75002111\n",
      " 0.77222832 0.83049059 0.8194292  0.8289707  0.8125475  0.78776492\n",
      " 0.75162543 0.78426074 0.77974331 0.81326522 0.8141096  0.79473106\n",
      " 0.83336148 0.85898843 0.83901883 0.85628641 0.87486279 0.88782403\n",
      " 0.90095415 0.92793211 0.948535   0.93333615 0.91746179 0.92544119\n",
      " 0.91771511 0.9483239  0.94064004 0.96635143 0.9563033  0.96491598\n",
      " 0.96081877 0.96072185 0.96004504 0.95985079 0.9603377  0.96139777\n",
      " 0.96287596 0.96464086 0.9665907  0.96865028 0.97077185 0.97293085\n",
      " 0.97512209 0.97735286 0.97963697 0.98198771 0.98441589 0.98692662\n",
      " 0.98951948 0.99218822 0.994923   0.99771118]\n",
      "22 day output [[1.0005393]]\n",
      "23 day input [0.96474711 0.97572406 0.99159841 0.96972895 0.97614625 0.96795575\n",
      " 1.         0.99016297 0.99050072 0.96538039 0.98488559 0.97086887\n",
      " 0.94026007 0.87748037 0.83483915 0.85413324 0.77336823 0.77269273\n",
      " 0.88014017 0.84007431 0.89673225 0.85527316 0.83884995 0.74233725\n",
      " 0.82327113 0.78143207 0.6665963  0.7921557  0.64118044 0.68614371\n",
      " 0.66001013 0.65203074 0.58642236 0.56586169 0.66089673 0.65515494\n",
      " 0.70970193 0.66452757 0.69437642 0.69218104 0.63569197 0.65266402\n",
      " 0.63780292 0.7267162  0.71388162 0.74191506 0.75002111 0.77222832\n",
      " 0.83049059 0.8194292  0.8289707  0.8125475  0.78776492 0.75162543\n",
      " 0.78426074 0.77974331 0.81326522 0.8141096  0.79473106 0.83336148\n",
      " 0.85898843 0.83901883 0.85628641 0.87486279 0.88782403 0.90095415\n",
      " 0.92793211 0.948535   0.93333615 0.91746179 0.92544119 0.91771511\n",
      " 0.9483239  0.94064004 0.96635143 0.9563033  0.96491598 0.96081877\n",
      " 0.96072185 0.96004504 0.95985079 0.9603377  0.96139777 0.96287596\n",
      " 0.96464086 0.9665907  0.96865028 0.97077185 0.97293085 0.97512209\n",
      " 0.97735286 0.97963697 0.98198771 0.98441589 0.98692662 0.98951948\n",
      " 0.99218822 0.994923   0.99771118 1.0005393 ]\n",
      "23 day output [[1.0033938]]\n",
      "24 day input [0.97572406 0.99159841 0.96972895 0.97614625 0.96795575 1.\n",
      " 0.99016297 0.99050072 0.96538039 0.98488559 0.97086887 0.94026007\n",
      " 0.87748037 0.83483915 0.85413324 0.77336823 0.77269273 0.88014017\n",
      " 0.84007431 0.89673225 0.85527316 0.83884995 0.74233725 0.82327113\n",
      " 0.78143207 0.6665963  0.7921557  0.64118044 0.68614371 0.66001013\n",
      " 0.65203074 0.58642236 0.56586169 0.66089673 0.65515494 0.70970193\n",
      " 0.66452757 0.69437642 0.69218104 0.63569197 0.65266402 0.63780292\n",
      " 0.7267162  0.71388162 0.74191506 0.75002111 0.77222832 0.83049059\n",
      " 0.8194292  0.8289707  0.8125475  0.78776492 0.75162543 0.78426074\n",
      " 0.77974331 0.81326522 0.8141096  0.79473106 0.83336148 0.85898843\n",
      " 0.83901883 0.85628641 0.87486279 0.88782403 0.90095415 0.92793211\n",
      " 0.948535   0.93333615 0.91746179 0.92544119 0.91771511 0.9483239\n",
      " 0.94064004 0.96635143 0.9563033  0.96491598 0.96081877 0.96072185\n",
      " 0.96004504 0.95985079 0.9603377  0.96139777 0.96287596 0.96464086\n",
      " 0.9665907  0.96865028 0.97077185 0.97293085 0.97512209 0.97735286\n",
      " 0.97963697 0.98198771 0.98441589 0.98692662 0.98951948 0.99218822\n",
      " 0.994923   0.99771118 1.0005393  1.00339377]\n"
     ]
    },
    {
     "name": "stdout",
     "output_type": "stream",
     "text": [
      "24 day output [[1.0062611]]\n",
      "25 day input [0.99159841 0.96972895 0.97614625 0.96795575 1.         0.99016297\n",
      " 0.99050072 0.96538039 0.98488559 0.97086887 0.94026007 0.87748037\n",
      " 0.83483915 0.85413324 0.77336823 0.77269273 0.88014017 0.84007431\n",
      " 0.89673225 0.85527316 0.83884995 0.74233725 0.82327113 0.78143207\n",
      " 0.6665963  0.7921557  0.64118044 0.68614371 0.66001013 0.65203074\n",
      " 0.58642236 0.56586169 0.66089673 0.65515494 0.70970193 0.66452757\n",
      " 0.69437642 0.69218104 0.63569197 0.65266402 0.63780292 0.7267162\n",
      " 0.71388162 0.74191506 0.75002111 0.77222832 0.83049059 0.8194292\n",
      " 0.8289707  0.8125475  0.78776492 0.75162543 0.78426074 0.77974331\n",
      " 0.81326522 0.8141096  0.79473106 0.83336148 0.85898843 0.83901883\n",
      " 0.85628641 0.87486279 0.88782403 0.90095415 0.92793211 0.948535\n",
      " 0.93333615 0.91746179 0.92544119 0.91771511 0.9483239  0.94064004\n",
      " 0.96635143 0.9563033  0.96491598 0.96081877 0.96072185 0.96004504\n",
      " 0.95985079 0.9603377  0.96139777 0.96287596 0.96464086 0.9665907\n",
      " 0.96865028 0.97077185 0.97293085 0.97512209 0.97735286 0.97963697\n",
      " 0.98198771 0.98441589 0.98692662 0.98951948 0.99218822 0.994923\n",
      " 0.99771118 1.0005393  1.00339377 1.00626111]\n",
      "25 day output [[1.0091304]]\n",
      "26 day input [0.96972895 0.97614625 0.96795575 1.         0.99016297 0.99050072\n",
      " 0.96538039 0.98488559 0.97086887 0.94026007 0.87748037 0.83483915\n",
      " 0.85413324 0.77336823 0.77269273 0.88014017 0.84007431 0.89673225\n",
      " 0.85527316 0.83884995 0.74233725 0.82327113 0.78143207 0.6665963\n",
      " 0.7921557  0.64118044 0.68614371 0.66001013 0.65203074 0.58642236\n",
      " 0.56586169 0.66089673 0.65515494 0.70970193 0.66452757 0.69437642\n",
      " 0.69218104 0.63569197 0.65266402 0.63780292 0.7267162  0.71388162\n",
      " 0.74191506 0.75002111 0.77222832 0.83049059 0.8194292  0.8289707\n",
      " 0.8125475  0.78776492 0.75162543 0.78426074 0.77974331 0.81326522\n",
      " 0.8141096  0.79473106 0.83336148 0.85898843 0.83901883 0.85628641\n",
      " 0.87486279 0.88782403 0.90095415 0.92793211 0.948535   0.93333615\n",
      " 0.91746179 0.92544119 0.91771511 0.9483239  0.94064004 0.96635143\n",
      " 0.9563033  0.96491598 0.96081877 0.96072185 0.96004504 0.95985079\n",
      " 0.9603377  0.96139777 0.96287596 0.96464086 0.9665907  0.96865028\n",
      " 0.97077185 0.97293085 0.97512209 0.97735286 0.97963697 0.98198771\n",
      " 0.98441589 0.98692662 0.98951948 0.99218822 0.994923   0.99771118\n",
      " 1.0005393  1.00339377 1.00626111 1.00913036]\n",
      "26 day output [[1.0119915]]\n",
      "27 day input [0.97614625 0.96795575 1.         0.99016297 0.99050072 0.96538039\n",
      " 0.98488559 0.97086887 0.94026007 0.87748037 0.83483915 0.85413324\n",
      " 0.77336823 0.77269273 0.88014017 0.84007431 0.89673225 0.85527316\n",
      " 0.83884995 0.74233725 0.82327113 0.78143207 0.6665963  0.7921557\n",
      " 0.64118044 0.68614371 0.66001013 0.65203074 0.58642236 0.56586169\n",
      " 0.66089673 0.65515494 0.70970193 0.66452757 0.69437642 0.69218104\n",
      " 0.63569197 0.65266402 0.63780292 0.7267162  0.71388162 0.74191506\n",
      " 0.75002111 0.77222832 0.83049059 0.8194292  0.8289707  0.8125475\n",
      " 0.78776492 0.75162543 0.78426074 0.77974331 0.81326522 0.8141096\n",
      " 0.79473106 0.83336148 0.85898843 0.83901883 0.85628641 0.87486279\n",
      " 0.88782403 0.90095415 0.92793211 0.948535   0.93333615 0.91746179\n",
      " 0.92544119 0.91771511 0.9483239  0.94064004 0.96635143 0.9563033\n",
      " 0.96491598 0.96081877 0.96072185 0.96004504 0.95985079 0.9603377\n",
      " 0.96139777 0.96287596 0.96464086 0.9665907  0.96865028 0.97077185\n",
      " 0.97293085 0.97512209 0.97735286 0.97963697 0.98198771 0.98441589\n",
      " 0.98692662 0.98951948 0.99218822 0.994923   0.99771118 1.0005393\n",
      " 1.00339377 1.00626111 1.00913036 1.0119915 ]\n",
      "27 day output [[1.014836]]\n",
      "28 day input [0.96795575 1.         0.99016297 0.99050072 0.96538039 0.98488559\n",
      " 0.97086887 0.94026007 0.87748037 0.83483915 0.85413324 0.77336823\n",
      " 0.77269273 0.88014017 0.84007431 0.89673225 0.85527316 0.83884995\n",
      " 0.74233725 0.82327113 0.78143207 0.6665963  0.7921557  0.64118044\n",
      " 0.68614371 0.66001013 0.65203074 0.58642236 0.56586169 0.66089673\n",
      " 0.65515494 0.70970193 0.66452757 0.69437642 0.69218104 0.63569197\n",
      " 0.65266402 0.63780292 0.7267162  0.71388162 0.74191506 0.75002111\n",
      " 0.77222832 0.83049059 0.8194292  0.8289707  0.8125475  0.78776492\n",
      " 0.75162543 0.78426074 0.77974331 0.81326522 0.8141096  0.79473106\n",
      " 0.83336148 0.85898843 0.83901883 0.85628641 0.87486279 0.88782403\n",
      " 0.90095415 0.92793211 0.948535   0.93333615 0.91746179 0.92544119\n",
      " 0.91771511 0.9483239  0.94064004 0.96635143 0.9563033  0.96491598\n",
      " 0.96081877 0.96072185 0.96004504 0.95985079 0.9603377  0.96139777\n",
      " 0.96287596 0.96464086 0.9665907  0.96865028 0.97077185 0.97293085\n",
      " 0.97512209 0.97735286 0.97963697 0.98198771 0.98441589 0.98692662\n",
      " 0.98951948 0.99218822 0.994923   0.99771118 1.0005393  1.00339377\n",
      " 1.00626111 1.00913036 1.0119915  1.01483595]\n",
      "28 day output [[1.017657]]\n",
      "29 day input [1.         0.99016297 0.99050072 0.96538039 0.98488559 0.97086887\n",
      " 0.94026007 0.87748037 0.83483915 0.85413324 0.77336823 0.77269273\n",
      " 0.88014017 0.84007431 0.89673225 0.85527316 0.83884995 0.74233725\n",
      " 0.82327113 0.78143207 0.6665963  0.7921557  0.64118044 0.68614371\n",
      " 0.66001013 0.65203074 0.58642236 0.56586169 0.66089673 0.65515494\n",
      " 0.70970193 0.66452757 0.69437642 0.69218104 0.63569197 0.65266402\n",
      " 0.63780292 0.7267162  0.71388162 0.74191506 0.75002111 0.77222832\n",
      " 0.83049059 0.8194292  0.8289707  0.8125475  0.78776492 0.75162543\n",
      " 0.78426074 0.77974331 0.81326522 0.8141096  0.79473106 0.83336148\n",
      " 0.85898843 0.83901883 0.85628641 0.87486279 0.88782403 0.90095415\n",
      " 0.92793211 0.948535   0.93333615 0.91746179 0.92544119 0.91771511\n",
      " 0.9483239  0.94064004 0.96635143 0.9563033  0.96491598 0.96081877\n",
      " 0.96072185 0.96004504 0.95985079 0.9603377  0.96139777 0.96287596\n",
      " 0.96464086 0.9665907  0.96865028 0.97077185 0.97293085 0.97512209\n",
      " 0.97735286 0.97963697 0.98198771 0.98441589 0.98692662 0.98951948\n",
      " 0.99218822 0.994923   0.99771118 1.0005393  1.00339377 1.00626111\n",
      " 1.00913036 1.0119915  1.01483595 1.01765704]\n",
      "29 day output [[1.0204489]]\n",
      "[[0.9608187675476074], [0.9607218503952026], [0.9600450396537781], [0.9598507881164551], [0.9603376984596252], [0.9613977670669556], [0.9628759622573853], [0.9646408557891846], [0.9665907025337219], [0.9686502814292908], [0.970771849155426], [0.9729308485984802], [0.9751220941543579], [0.9773528575897217], [0.9796369671821594], [0.981987714767456], [0.9844158887863159], [0.9869266152381897], [0.989519476890564], [0.9921882152557373], [0.9949229955673218], [0.997711181640625], [1.0005393028259277], [1.0033937692642212], [1.0062611103057861], [1.0091303586959839], [1.0119915008544922], [1.0148359537124634], [1.0176570415496826], [1.020448923110962]]\n"
     ]
    }
   ],
   "source": [
    "# demonstrate prediction for next 10 days\n",
    "from numpy import array\n",
    "\n",
    "lst_output=[]\n",
    "n_steps=100\n",
    "i=0\n",
    "while(i<30):\n",
    "    \n",
    "    if(len(temp_input)>100):\n",
    "        #print(temp_input)\n",
    "        x_input=np.array(temp_input[1:])\n",
    "        print(\"{} day input {}\".format(i,x_input))\n",
    "        x_input=x_input.reshape(1,-1)\n",
    "        x_input = x_input.reshape((1, n_steps, 1))\n",
    "        #print(x_input)\n",
    "        yhat = model.predict(x_input, verbose=0)\n",
    "        print(\"{} day output {}\".format(i,yhat))\n",
    "        temp_input.extend(yhat[0].tolist())\n",
    "        temp_input=temp_input[1:]\n",
    "        #print(temp_input)\n",
    "        lst_output.extend(yhat.tolist())\n",
    "        i=i+1\n",
    "    else:\n",
    "        x_input = x_input.reshape((1, n_steps,1))\n",
    "        yhat = model.predict(x_input, verbose=0)\n",
    "        print(yhat[0])\n",
    "        temp_input.extend(yhat[0].tolist())\n",
    "        print(len(temp_input))\n",
    "        lst_output.extend(yhat.tolist())\n",
    "        i=i+1\n",
    "    \n",
    "\n",
    "print(lst_output)"
   ]
  },
  {
   "cell_type": "code",
   "execution_count": 80,
   "id": "6c8b644f",
   "metadata": {},
   "outputs": [],
   "source": [
    "day_new=np.arange(1,101)\n",
    "day_pred=np.arange(101,131)"
   ]
  },
  {
   "cell_type": "code",
   "execution_count": 81,
   "id": "58d4c52e",
   "metadata": {},
   "outputs": [
    {
     "data": {
      "text/plain": [
       "[<matplotlib.lines.Line2D at 0x269da447bb0>]"
      ]
     },
     "execution_count": 81,
     "metadata": {},
     "output_type": "execute_result"
    },
    {
     "data": {
      "image/png": "[encoded data removed]",
      "text/plain": [
       "<Figure size 640x480 with 1 Axes>"
      ]
     },
     "metadata": {},
     "output_type": "display_data"
    }
   ],
   "source": [
    "plt.plot(day_new,scaler.inverse_transform(df1[1158:]))\n",
    "plt.plot(day_pred,scaler.inverse_transform(lst_output))"
   ]
  },
  {
   "cell_type": "code",
   "execution_count": 82,
   "id": "eb7de6d1",
   "metadata": {},
   "outputs": [
    {
     "data": {
      "text/plain": [
       "[<matplotlib.lines.Line2D at 0x269db7517b0>]"
      ]
     },
     "execution_count": 82,
     "metadata": {},
     "output_type": "execute_result"
    },
    {
     "data": {
      "image/png": "[encoded data removed]",
      "text/plain": [
       "<Figure size 640x480 with 1 Axes>"
      ]
     },
     "metadata": {},
     "output_type": "display_data"
    }
   ],
   "source": [
    "df3=df1.tolist()\n",
    "df3.extend(lst_output)\n",
    "plt.plot(df3[1200:])"
   ]
  },
  {
   "cell_type": "code",
   "execution_count": 83,
   "id": "e434188a",
   "metadata": {},
   "outputs": [],
   "source": [
    "df3=scaler.inverse_transform(df3).tolist()"
   ]
  },
  {
   "cell_type": "code",
   "execution_count": 84,
   "id": "a03d3bc9",
   "metadata": {},
   "outputs": [
    {
     "data": {
      "text/plain": [
       "[<matplotlib.lines.Line2D at 0x269db79fbe0>]"
      ]
     },
     "execution_count": 84,
     "metadata": {},
     "output_type": "execute_result"
    },
    {
     "data": {
      "image/png": "[encoded data removed]",
      "text/plain": [
       "<Figure size 640x480 with 1 Axes>"
      ]
     },
     "metadata": {},
     "output_type": "display_data"
    }
   ],
   "source": [
    "plt.plot(df3)"
   ]
  },
  {
   "cell_type": "code",
   "execution_count": null,
   "id": "d569e704",
   "metadata": {},
   "outputs": [],
   "source": []
  }
 ],
 "metadata": {
  "kernelspec": {
   "display_name": "Python 3 (ipykernel)",
   "language": "python",
   "name": "python3"
  },
  "language_info": {
   "codemirror_mode": {
    "name": "ipython",
    "version": 3
   },
   "file_extension": ".py",
   "mimetype": "text/x-python",
   "name": "python",
   "nbconvert_exporter": "python",
   "pygments_lexer": "ipython3",
   "version": "3.10.8"
  }
 },
 "nbformat": 4,
 "nbformat_minor": 5
}
